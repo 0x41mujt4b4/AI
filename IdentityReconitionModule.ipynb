{
  "nbformat": 4,
  "nbformat_minor": 0,
  "metadata": {
    "colab": {
      "name": "IdentityReconitionModule.ipynb",
      "provenance": [],
      "authorship_tag": "ABX9TyOahkUhE///YUoic54rCaFT",
      "include_colab_link": true
    },
    "kernelspec": {
      "name": "python3",
      "display_name": "Python 3"
    },
    "language_info": {
      "name": "python"
    }
  },
  "cells": [
    {
      "cell_type": "markdown",
      "metadata": {
        "id": "view-in-github",
        "colab_type": "text"
      },
      "source": [
        "<a href=\"https://colab.research.google.com/github/Almujtaba007/AI/blob/main/IdentityReconitionModule.ipynb\" target=\"_parent\"><img src=\"https://colab.research.google.com/assets/colab-badge.svg\" alt=\"Open In Colab\"/></a>"
      ]
    },
    {
      "cell_type": "code",
      "metadata": {
        "id": "sWpq3U_0SdSk"
      },
      "source": [
        "from keras.preprocessing.image import ImageDataGenerator\n",
        "from tensorflow.keras.optimizers import Adam\n",
        "from keras import models, layers"
      ],
      "execution_count": 49,
      "outputs": []
    },
    {
      "cell_type": "code",
      "metadata": {
        "id": "5SHPxoeYTgNw"
      },
      "source": [
        "train_dir = 'data_set/Train_Data'\n",
        "test_dir = 'data_set/Test_Data'\n",
        "validation_dir = 'data_set/Val_Data'\n",
        "\n",
        "CLASSES_REQUIRED = ['Driving_License', 'Passport']\n",
        "KERNEL_SIZE = (5, 5)\n",
        "IMAGE_WIDTH = 224\n",
        "IMAGE_HEIGHT = 224\n",
        "RESIZE_TO = (224, 224)\n",
        "BATCH_SIZE_TRAIN = 4\n",
        "BATCH_SIZE_VAL = 2\n",
        "BATCH_SIZE_TEST = 2"
      ],
      "execution_count": 61,
      "outputs": []
    },
    {
      "cell_type": "code",
      "metadata": {
        "colab": {
          "base_uri": "https://localhost:8080/"
        },
        "id": "nDmS6zUASzNC",
        "outputId": "5af89bb0-244a-4598-d0fb-4048b7835bf1"
      },
      "source": [
        "# All images will be rescaled by 1./255\n",
        "train_datagen = ImageDataGenerator(rescale=1. / 255)\n",
        "test_datagen = ImageDataGenerator(rescale=1. / 255)\n",
        "val_datagen = ImageDataGenerator(rescale=1. / 255)\n",
        "\n",
        "train_generator = train_datagen.flow_from_directory(\n",
        "    train_dir,\n",
        "    target_size=RESIZE_TO,\n",
        "    batch_size=BATCH_SIZE_TRAIN,\n",
        "    classes=CLASSES_REQUIRED)#class_mode='categorical'\n",
        "\n",
        "test_generator = test_datagen.flow_from_directory(\n",
        "    test_dir,\n",
        "    target_size=RESIZE_TO,\n",
        "    batch_size=BATCH_SIZE_TEST,\n",
        "    classes=CLASSES_REQUIRED)#class_mode='categorical'\n",
        "\n",
        "validation_generator = val_datagen.flow_from_directory(\n",
        "    validation_dir,\n",
        "    target_size=RESIZE_TO,\n",
        "    batch_size=BATCH_SIZE_VAL,\n",
        "    classes=CLASSES_REQUIRED)#class_mode='categorical'"
      ],
      "execution_count": 56,
      "outputs": [
        {
          "output_type": "stream",
          "name": "stdout",
          "text": [
            "Found 8 images belonging to 2 classes.\n",
            "Found 2 images belonging to 2 classes.\n",
            "Found 2 images belonging to 2 classes.\n"
          ]
        }
      ]
    },
    {
      "cell_type": "code",
      "metadata": {
        "id": "bO6gz5tNX10K"
      },
      "source": [
        "# create a convolution layer\n",
        "def conv(num_filters):\n",
        "  return layers.Conv2D(num_filters, KERNEL_SIZE, activation='relu')\n",
        "# craete a maxpooling layer\n",
        "def maxp():\n",
        "  return layers.MaxPooling2D((2, 2))"
      ],
      "execution_count": 15,
      "outputs": []
    },
    {
      "cell_type": "code",
      "metadata": {
        "colab": {
          "base_uri": "https://localhost:8080/"
        },
        "id": "rn-eFboOYMW5",
        "outputId": "bfb97741-8a55-4957-9249-9723a185a7f1"
      },
      "source": [
        "# create model\n",
        "model = models.Sequential()\n",
        "model.add(layers.Conv2D(64, (3, 3),\n",
        "                        activation='relu',\n",
        "                        input_shape=(IMAGE_WIDTH,\n",
        "                                     IMAGE_HEIGHT,\n",
        "                                     3\n",
        "                                     )))\n",
        "model.add(conv(64))\n",
        "model.add(maxp())\n",
        "\n",
        "model.add(conv(64))\n",
        "model.add(maxp())\n",
        "\n",
        "model.add(conv(64))\n",
        "model.add(maxp())\n",
        "\n",
        "model.add(layers.Flatten())\n",
        "model.add(layers.Dense(512, activation='relu'))\n",
        "model.add(layers.Dropout(0.5))\n",
        "model.add(layers.Dense(train_generator.num_classes,\n",
        "                       activation='softmax'))\n",
        "model.summary()"
      ],
      "execution_count": 45,
      "outputs": [
        {
          "output_type": "stream",
          "name": "stdout",
          "text": [
            "Model: \"sequential_6\"\n",
            "_________________________________________________________________\n",
            " Layer (type)                Output Shape              Param #   \n",
            "=================================================================\n",
            " conv2d_9 (Conv2D)           (None, 222, 222, 64)      1792      \n",
            "                                                                 \n",
            " conv2d_10 (Conv2D)          (None, 218, 218, 64)      102464    \n",
            "                                                                 \n",
            " max_pooling2d_6 (MaxPooling  (None, 109, 109, 64)     0         \n",
            " 2D)                                                             \n",
            "                                                                 \n",
            " conv2d_11 (Conv2D)          (None, 105, 105, 64)      102464    \n",
            "                                                                 \n",
            " max_pooling2d_7 (MaxPooling  (None, 52, 52, 64)       0         \n",
            " 2D)                                                             \n",
            "                                                                 \n",
            " conv2d_12 (Conv2D)          (None, 48, 48, 64)        102464    \n",
            "                                                                 \n",
            " max_pooling2d_8 (MaxPooling  (None, 24, 24, 64)       0         \n",
            " 2D)                                                             \n",
            "                                                                 \n",
            " flatten_2 (Flatten)         (None, 36864)             0         \n",
            "                                                                 \n",
            " dense_4 (Dense)             (None, 512)               18874880  \n",
            "                                                                 \n",
            " dropout_2 (Dropout)         (None, 512)               0         \n",
            "                                                                 \n",
            " dense_5 (Dense)             (None, 2)                 1026      \n",
            "                                                                 \n",
            "=================================================================\n",
            "Total params: 19,185,090\n",
            "Trainable params: 19,185,090\n",
            "Non-trainable params: 0\n",
            "_________________________________________________________________\n"
          ]
        }
      ]
    },
    {
      "cell_type": "code",
      "metadata": {
        "colab": {
          "base_uri": "https://localhost:8080/"
        },
        "id": "CJt9E808ihTr",
        "outputId": "bb95b77f-cff5-4f7e-ee7f-60f2cd3077aa"
      },
      "source": [
        "# Complie the model\n",
        "model.compile(Adam(lr=.00015), loss='categorical_crossentropy', metrics=['accuracy'])"
      ],
      "execution_count": 57,
      "outputs": [
        {
          "output_type": "stream",
          "name": "stderr",
          "text": [
            "/usr/local/lib/python3.7/dist-packages/keras/optimizer_v2/adam.py:105: UserWarning: The `lr` argument is deprecated, use `learning_rate` instead.\n",
            "  super(Adam, self).__init__(name, **kwargs)\n"
          ]
        }
      ]
    },
    {
      "cell_type": "code",
      "metadata": {
        "colab": {
          "base_uri": "https://localhost:8080/"
        },
        "id": "6o7oVN6IcGxt",
        "outputId": "ac25ea41-4faf-4774-a1be-7562d4002596"
      },
      "source": [
        "#training the model\n",
        "history = model.fit(\n",
        "    train_generator,\n",
        "    steps_per_epoch=2,\n",
        "    epochs=5,\n",
        "    validation_data=validation_generator,\n",
        "    validation_steps=2,\n",
        "    verbose=1)\n",
        "model.save('FINAL_MODEL.h5')"
      ],
      "execution_count": 62,
      "outputs": [
        {
          "output_type": "stream",
          "name": "stdout",
          "text": [
            "Epoch 1/5\n",
            "2/2 [==============================] - 3s 2s/step - loss: 0.2551 - accuracy: 1.0000 - val_loss: 0.2279 - val_accuracy: 1.0000\n",
            "Epoch 2/5\n",
            "2/2 [==============================] - 3s 2s/step - loss: 0.5178 - accuracy: 0.5000 - val_loss: 0.1127 - val_accuracy: 1.0000\n",
            "Epoch 3/5\n",
            "2/2 [==============================] - 3s 2s/step - loss: 0.2045 - accuracy: 1.0000 - val_loss: 0.0498 - val_accuracy: 1.0000\n",
            "Epoch 4/5\n",
            "2/2 [==============================] - 3s 2s/step - loss: 0.6254 - accuracy: 0.5000 - val_loss: 0.0173 - val_accuracy: 1.0000\n",
            "Epoch 5/5\n",
            "2/2 [==============================] - 3s 2s/step - loss: 0.0247 - accuracy: 1.0000 - val_loss: 0.0095 - val_accuracy: 1.0000\n"
          ]
        }
      ]
    },
    {
      "cell_type": "code",
      "metadata": {
        "id": "uNyo63kaVii9"
      },
      "source": [
        ""
      ],
      "execution_count": null,
      "outputs": []
    }
  ]
}